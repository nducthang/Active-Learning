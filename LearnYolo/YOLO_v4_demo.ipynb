{
  "nbformat": 4,
  "nbformat_minor": 0,
  "metadata": {
    "colab": {
      "name": "YOLO v4 demo.ipynb",
      "provenance": [],
      "collapsed_sections": []
    },
    "kernelspec": {
      "name": "python3",
      "display_name": "Python 3"
    },
    "accelerator": "GPU"
  },
  "cells": [
    {
      "cell_type": "markdown",
      "metadata": {
        "id": "e69rfu-vhl3o"
      },
      "source": [
        "# YOLO v4 demo (MS COCO trained)"
      ]
    },
    {
      "cell_type": "markdown",
      "metadata": {
        "id": "ruJpbVTkgvwC"
      },
      "source": [
        "Choose GPU for faster inference\n",
        "\n",
        "**Runtime -> Change Runtime Type -> GPU**"
      ]
    },
    {
      "cell_type": "code",
      "metadata": {
        "id": "_xsB54u1taUV",
        "colab": {
          "base_uri": "https://localhost:8080/"
        },
        "cellView": "form",
        "outputId": "075b4628-82c6-4835-9c1e-eec1749458ae"
      },
      "source": [
        "#@title Print GPU info\n",
        "gpu_info = !nvidia-smi\n",
        "gpu_info = '\\n'.join(gpu_info)\n",
        "if gpu_info.find('failed') >= 0:\n",
        "  print('Select the Runtime > \"Change runtime type\" menu to enable a GPU accelerator, ')\n",
        "  print('and then re-execute this cell.')\n",
        "else:\n",
        "  print(gpu_info)"
      ],
      "execution_count": 1,
      "outputs": [
        {
          "output_type": "stream",
          "text": [
            "Sat Dec 19 03:28:07 2020       \n",
            "+-----------------------------------------------------------------------------+\n",
            "| NVIDIA-SMI 455.45.01    Driver Version: 418.67       CUDA Version: 10.1     |\n",
            "|-------------------------------+----------------------+----------------------+\n",
            "| GPU  Name        Persistence-M| Bus-Id        Disp.A | Volatile Uncorr. ECC |\n",
            "| Fan  Temp  Perf  Pwr:Usage/Cap|         Memory-Usage | GPU-Util  Compute M. |\n",
            "|                               |                      |               MIG M. |\n",
            "|===============================+======================+======================|\n",
            "|   0  Tesla T4            Off  | 00000000:00:04.0 Off |                    0 |\n",
            "| N/A   63C    P8    10W /  70W |      0MiB / 15079MiB |      0%      Default |\n",
            "|                               |                      |                 ERR! |\n",
            "+-------------------------------+----------------------+----------------------+\n",
            "                                                                               \n",
            "+-----------------------------------------------------------------------------+\n",
            "| Processes:                                                                  |\n",
            "|  GPU   GI   CI        PID   Type   Process name                  GPU Memory |\n",
            "|        ID   ID                                                   Usage      |\n",
            "|=============================================================================|\n",
            "|  No running processes found                                                 |\n",
            "+-----------------------------------------------------------------------------+\n"
          ],
          "name": "stdout"
        }
      ]
    },
    {
      "cell_type": "code",
      "metadata": {
        "id": "zw21Zv1Hg0Tp",
        "cellView": "form"
      },
      "source": [
        "#@title Download darknet\n",
        "# Clone darknet\n",
        "!git clone https://github.com/AlexeyAB/darknet.git\n",
        "# For downloading & trimming vids\n",
        "!git clone https://github.com/ankandrew/YT-Downloader-Trimmer.git ytdownloader\n",
        "\n",
        "!pip install -r /content/ytdownloader/requirements.txt\n",
        "\n",
        "from ytdownloader.downloader import Downloader\n",
        "from google.colab import files\n",
        "\n",
        "%cd darknet\n",
        "\n",
        "!wget https://github.com/AlexeyAB/darknet/releases/download/darknet_yolo_v3_optimal/yolov4.weights\n",
        "!wget https://github.com/AlexeyAB/darknet/releases/download/darknet_yolo_v4_pre/yolov4-tiny.weights\n",
        "\n",
        "# Enable GPU & OPENCV\n",
        "!sed -i 's/OPENCV=0/OPENCV=1/' Makefile\n",
        "!sed -i 's/GPU=0/GPU=1/' Makefile\n",
        "!sed -i 's/CUDNN=0/CUDNN=1/' Makefile\n",
        "!sed -i 's/CUDNN_HALF=0/CUDNN_HALF=1/' Makefile\n",
        "\n",
        "# Make\n",
        "!make\n",
        "\n",
        "!chmod 755 darknet"
      ],
      "execution_count": null,
      "outputs": []
    },
    {
      "cell_type": "code",
      "metadata": {
        "id": "863ek6VShezj",
        "cellView": "form"
      },
      "source": [
        "#@title Download YT video for making predictions\n",
        "video_url = \"https://www.youtube.com/watch?v=Zbm0Z6nw5sE\" #@param {type:\"string\"}\n",
        "video_quality = 720 #@param [\"1080\", \"720\", \"480\", \"360\", \"240\"] {type:\"raw\"}\n",
        "#@markdown Only video w/o sound\n",
        "only_video = True #@param {type:\"boolean\"}\n",
        "#@markdown Trim video\n",
        "do_trim = True #@param {type:\"boolean\"}\n",
        "#@markdown Time in hh:mm:ss format\n",
        "start = \"00:13:57\" #@param {type:\"string\"}\n",
        "end = \"00:15:00\" #@param {type:\"string\"}\n",
        "\n",
        "yt_d = Downloader(\n",
        "    video_url, 'downloaded_vid.mp4', quality=video_quality, only_vid=only_video)\n",
        "yt_d.download()\n",
        "\n",
        "if do_trim:\n",
        "  import os\n",
        "  yt_d.trim(start, end, delete_original=False)\n",
        "  os.rename('downloaded_vid_trimmed.mp4', 'downloaded_vid.mp4')"
      ],
      "execution_count": null,
      "outputs": []
    },
    {
      "cell_type": "code",
      "metadata": {
        "id": "aJMkSbjvisir",
        "cellView": "form"
      },
      "source": [
        "#@title Or upload video from PC\n",
        "file_name = \"Name of the file.mp4\" #@param {type:\"string\"}\n",
        "\n",
        "assert file_name, 'Fill in the name of the file to upload'\n",
        "\n",
        "files.upload()\n",
        "\n",
        "assert os.path.isfile(file_name), 'Uploaded file has different name'\n",
        "os.rename(file_name, 'downloaded_vid.mp4')"
      ],
      "execution_count": null,
      "outputs": []
    },
    {
      "cell_type": "markdown",
      "metadata": {
        "id": "vrHAPVwTi0GA"
      },
      "source": [
        "### Yolo v4"
      ]
    },
    {
      "cell_type": "code",
      "metadata": {
        "id": "GfQ8_yodi1NH",
        "cellView": "form"
      },
      "source": [
        "#@title Run YOLO v4\n",
        "!./darknet detector demo cfg/coco.data cfg/yolov4.cfg yolov4.weights downloaded_vid.mp4 -dont_show -out_filename res_yolov4.mp4"
      ],
      "execution_count": null,
      "outputs": []
    },
    {
      "cell_type": "markdown",
      "metadata": {
        "id": "n6Rq7gyPi2Gz"
      },
      "source": [
        "### Yolo v4 - tiny"
      ]
    },
    {
      "cell_type": "code",
      "metadata": {
        "id": "S4yE8R3ei3ot",
        "cellView": "form"
      },
      "source": [
        "#@title Run YOLO v4 tiny\n",
        "!./darknet detector demo cfg/coco.data cfg/yolov4-tiny.cfg yolov4-tiny.weights downloaded_vid.mp4 -dont_show -out_filename res_yolov4_tiny.mp4"
      ],
      "execution_count": null,
      "outputs": []
    },
    {
      "cell_type": "markdown",
      "metadata": {
        "id": "vp9vNdwji8S-"
      },
      "source": [
        "### Download processed vid"
      ]
    },
    {
      "cell_type": "code",
      "metadata": {
        "id": "EW1N3a10i-40",
        "colab": {
          "base_uri": "https://localhost:8080/",
          "height": 17
        },
        "cellView": "form",
        "outputId": "300e1b94-e16c-4940-db09-ba0e7e42b491"
      },
      "source": [
        "#@title Download video\n",
        "option = \"yolo v4 tiny\" #@param [\"yolo v4\", \"yolo v4 tiny\"]\n",
        "# Download file\n",
        "if option == 'yolo v4':\n",
        "  files.download('res_yolov4.mp4')\n",
        "else:\n",
        "  files.download('res_yolov4_tiny.mp4')"
      ],
      "execution_count": null,
      "outputs": [
        {
          "output_type": "display_data",
          "data": {
            "application/javascript": [
              "\n",
              "    async function download(id, filename, size) {\n",
              "      if (!google.colab.kernel.accessAllowed) {\n",
              "        return;\n",
              "      }\n",
              "      const div = document.createElement('div');\n",
              "      const label = document.createElement('label');\n",
              "      label.textContent = `Downloading \"${filename}\": `;\n",
              "      div.appendChild(label);\n",
              "      const progress = document.createElement('progress');\n",
              "      progress.max = size;\n",
              "      div.appendChild(progress);\n",
              "      document.body.appendChild(div);\n",
              "\n",
              "      const buffers = [];\n",
              "      let downloaded = 0;\n",
              "\n",
              "      const channel = await google.colab.kernel.comms.open(id);\n",
              "      // Send a message to notify the kernel that we're ready.\n",
              "      channel.send({})\n",
              "\n",
              "      for await (const message of channel.messages) {\n",
              "        // Send a message to notify the kernel that we're ready.\n",
              "        channel.send({})\n",
              "        if (message.buffers) {\n",
              "          for (const buffer of message.buffers) {\n",
              "            buffers.push(buffer);\n",
              "            downloaded += buffer.byteLength;\n",
              "            progress.value = downloaded;\n",
              "          }\n",
              "        }\n",
              "      }\n",
              "      const blob = new Blob(buffers, {type: 'application/binary'});\n",
              "      const a = document.createElement('a');\n",
              "      a.href = window.URL.createObjectURL(blob);\n",
              "      a.download = filename;\n",
              "      div.appendChild(a);\n",
              "      a.click();\n",
              "      div.remove();\n",
              "    }\n",
              "  "
            ],
            "text/plain": [
              "<IPython.core.display.Javascript object>"
            ]
          },
          "metadata": {
            "tags": []
          }
        },
        {
          "output_type": "display_data",
          "data": {
            "application/javascript": [
              "download(\"download_0e98c975-4419-40c3-a1ac-40887abdf03f\", \"res_yolov4_tiny.mp4\", 94371772)"
            ],
            "text/plain": [
              "<IPython.core.display.Javascript object>"
            ]
          },
          "metadata": {
            "tags": []
          }
        }
      ]
    }
  ]
}