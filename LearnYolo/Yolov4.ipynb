{
 "metadata": {
  "language_info": {
   "codemirror_mode": {
    "name": "ipython",
    "version": 3
   },
   "file_extension": ".py",
   "mimetype": "text/x-python",
   "name": "python",
   "nbconvert_exporter": "python",
   "pygments_lexer": "ipython3",
   "version": "3.6.9-final"
  },
  "orig_nbformat": 2,
  "kernelspec": {
   "name": "python3",
   "display_name": "Python 3",
   "language": "python"
  }
 },
 "nbformat": 4,
 "nbformat_minor": 2,
 "cells": [
  {
   "cell_type": "code",
   "execution_count": 2,
   "metadata": {},
   "outputs": [],
   "source": [
    "import glob\n",
    "import math\n",
    "import os\n",
    "import random\n",
    "import shutil\n",
    "import subprocess\n",
    "from pathlib import Path\n",
    "\n",
    "import cv2\n",
    "import matplotlib\n",
    "import matplotlib.pyplot as plt\n",
    "import numpy as np\n",
    "import torch\n",
    "import torch.nn as nn\n",
    "import torchvision\n",
    "from tqdm import tqdm\n",
    "import torch.nn.functional as F"
   ]
  },
  {
   "source": [
    "# Layers\n",
    "Định nghĩa một số layers cho yolov4"
   ],
   "cell_type": "markdown",
   "metadata": {}
  },
  {
   "cell_type": "code",
   "execution_count": 3,
   "metadata": {},
   "outputs": [],
   "source": [
    "def make_divisible(v, divisor):\n",
    "    # Đảm bảo tất cả các layer có số kênh chia hết cho 8\n",
    "    return math.ceil(v/divisor) * divisor"
   ]
  },
  {
   "cell_type": "code",
   "execution_count": 4,
   "metadata": {},
   "outputs": [],
   "source": [
    "class Flatten(nn.Module):\n",
    "    # Sử dụng sau nn.AdaptiveAvgPool12d(1) để xóa bỏ 2 chiều sau\n",
    "    def forward(self, x):\n",
    "        return x.view(x.size(0), -1)"
   ]
  },
  {
   "cell_type": "code",
   "execution_count": 5,
   "metadata": {},
   "outputs": [],
   "source": [
    "class Concat(nn.Module):\n",
    "    # Nối 1 list các tensor dọ theo các chiều của chúng\n",
    "    def __init__(self, dismension=1):\n",
    "        super(Concat, self).__init__()\n",
    "        self.d = dismension\n",
    "\n",
    "    def forward(self, x):\n",
    "        return torch.cat(x, self.d)"
   ]
  },
  {
   "cell_type": "code",
   "execution_count": 6,
   "metadata": {},
   "outputs": [],
   "source": [
    "class FeatureConcat(nn.Module):\n",
    "    def __init__(self, layers):\n",
    "        super(FeatureConcat, self).__init__()\n",
    "        self.layers = layers\n",
    "        self.mutiple = len(layers) > 1\n",
    "\n",
    "    def forward(self, x, outputs):\n",
    "        return torch.cat([outputs[i] for i in self.layers], 1) if self.mutiple else outputs[self.layers[0]]"
   ]
  },
  {
   "cell_type": "code",
   "execution_count": 7,
   "metadata": {},
   "outputs": [],
   "source": [
    "class WeightedFeatureFusion(nn.Module):\n",
    "    # weighted sum of 2 or more layers https://arxiv.org/abs/1911.09070\n",
    "    def __init__(self, layers, weight=False):\n",
    "        super(WeightedFeatureFusion, self).__init__()\n",
    "        self.layers = layers\n",
    "        self.weight = weight\n",
    "        self.n = len(layers) + 1\n",
    "        if weight:\n",
    "            self.w = nn.Parameter(torch.zeros(self.n), requires_grad=True)\n",
    "    def forward(self, x, outputs):\n",
    "        # Weights\n",
    "        if self.weight:\n",
    "            w = torch.sigmoid(self.w)*(2/self.n)\n",
    "            x = x * w[0]\n",
    "        \n",
    "        # Fusion (Hợp nhất)\n",
    "        nx = x.shape[1] # Số kênh input\n",
    "        for i in range(self.n-1):\n",
    "            a = outputs[self.layers[i] * w[i-1] if self.weight else outputs[self.layers[i]]] # thêm các feature\n",
    "            na = a.shape[1] # feature channels\n",
    "\n",
    "            # Adjust channels (Điều chỉnh kênh)\n",
    "            if nx == na: # Giống nhau về chiêu\n",
    "                x = x + a\n",
    "            elif nx > na: # slice input\n",
    "                x[:, :na] = x[:,:na] +  a\n",
    "                # hoac a = nn.ZeroPad2d((0,0,0,0,dc))(a); x = x + a\n",
    "            else: # slide feature\n",
    "                x = x + a[:, :nx]\n",
    "\n",
    "        return x"
   ]
  },
  {
   "cell_type": "code",
   "execution_count": null,
   "metadata": {},
   "outputs": [],
   "source": []
  }
 ]
}